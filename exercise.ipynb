Muon short exercise
This is the companion notebook to SWGuideCMSDataAnalysisSchoolLPC2020MuonExercise.
